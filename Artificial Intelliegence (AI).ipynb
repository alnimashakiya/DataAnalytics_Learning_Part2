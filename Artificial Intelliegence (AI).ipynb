{
 "cells": [
  {
   "cell_type": "markdown",
   "id": "72caf4c3-615a-41a2-a380-98f94238809a",
   "metadata": {},
   "source": [
    "# DEFINE AND DESCRIBE THE ROLE ARTIFICIAL INTELLIGENCE (AI) IN DATA ANALYST\n",
    "\n",
    "Artificial intelligence (AI) in data analysis refers to the use of advanced computational techniques to process and analyze large and complex datasets. AI algorithms and technologies enable computers to mimic human-like intelligence, learning from data, recognizing patterns, making predictions, and generating insights without explicit programming."
   ]
  },
  {
   "cell_type": "markdown",
   "id": "abb3dd0b-eb11-4e10-abd4-31d7657dc726",
   "metadata": {},
   "source": [
    "Artificial Intelligence (AI) plays a significant role in data analysis by enabling computers to learn from data, identify patterns, make decisions, and automate tasks without explicit programming. Here's how AI is utilized in data analysis:\n",
    "\n",
    "1. **Machine Learning**: Machine learning algorithms, a subset of AI, are employed extensively in data analysis. These algorithms can be classified into supervised learning (where the model learns from labeled data), unsupervised learning (where the model discovers patterns in unlabeled data), and reinforcement learning (where the model learns through trial and error). Examples include regression, classification, clustering, and dimensionality reduction algorithms.\n",
    "\n",
    "2. **Deep Learning**: Deep learning, a specialized form of machine learning, involves artificial neural networks with multiple layers (hence the term \"deep\"). Deep learning models have demonstrated remarkable performance in tasks such as image recognition, natural language processing, and speech recognition. Convolutional Neural Networks (CNNs) and Recurrent Neural Networks (RNNs) are common architectures used in deep learning.\n",
    "\n",
    "3. **Natural Language Processing (NLP)**: NLP techniques enable computers to understand, interpret, and generate human language. In data analysis, NLP is utilized for tasks such as sentiment analysis, text classification, document summarization, and language translation. Techniques such as tokenization, stemming, lemmatization, and named entity recognition are employed in NLP.\n",
    "\n",
    "4. **Computer Vision**: Computer vision involves teaching computers to interpret and understand visual information from the real world. It is applied in data analysis for tasks such as object detection, image classification, facial recognition, and medical image analysis. Convolutional Neural Networks (CNNs) are widely used in computer vision tasks due to their effectiveness in learning spatial hierarchies of features.\n",
    "\n",
    "5. **Automated Machine Learning (AutoML)**: AutoML platforms automate the process of applying machine learning to real-world problems. These platforms automatically select the best-performing algorithms, preprocess data, tune hyperparameters, and deploy models, reducing the need for manual intervention in the machine learning workflow.\n",
    "\n",
    "6. **Predictive Analytics**: AI techniques are employed in predictive analytics to forecast future outcomes based on historical data. Predictive models leverage machine learning algorithms to identify patterns and trends in data, enabling organizations to make data-driven decisions and anticipate future events.\n",
    "\n",
    "7. **Anomaly Detection**: AI-based anomaly detection systems identify unusual patterns or outliers in data that deviate from the norm. These systems utilize machine learning algorithms to distinguish between normal and anomalous behavior, thereby enabling early detection of fraudulent activities, system failures, or security breaches.\n",
    "\n",
    "Overall, AI empowers data analysts and data scientists to extract actionable insights from large volumes of data, automate repetitive tasks, and drive innovation across various industries."
   ]
  },
  {
   "cell_type": "markdown",
   "id": "cce47b8b-9c99-45f1-8cb5-d14012eb3ab4",
   "metadata": {},
   "source": [
    "## EXAMPLE\n",
    "\n",
    "Let's consider an example where we use artificial intelligence techniques in Python for sentiment analysis of customer reviews. We'll utilize the Natural Language Toolkit (NLTK) library for text preprocessing and a machine learning model for classification."
   ]
  },
  {
   "cell_type": "code",
   "execution_count": 1,
   "id": "d2e786fa-c17e-4ebb-a062-0462f4e794fb",
   "metadata": {},
   "outputs": [],
   "source": [
    "import nltk\n",
    "from nltk.corpus import stopwords\n",
    "from nltk.tokenize import word_tokenize\n",
    "from nltk.stem import WordNetLemmatizer\n",
    "from sklearn.feature_extraction.text import TfidfVectorizer\n",
    "from sklearn.model_selection import train_test_split\n",
    "from sklearn.svm import SVC\n",
    "from sklearn.metrics import accuracy_score"
   ]
  },
  {
   "cell_type": "code",
   "execution_count": 2,
   "id": "e5ee0dd8-5c57-44d6-b775-c629219514ca",
   "metadata": {},
   "outputs": [],
   "source": [
    "# Sample customer reviews dataset\n",
    "reviews = [\n",
    "    (\"This product is excellent!\", \"positive\"),\n",
    "    (\"The quality of this product is poor.\", \"negative\"),\n",
    "    (\"I'm satisfied with my purchase.\", \"positive\"),\n",
    "    (\"I would not recommend this product.\", \"negative\"),\n",
    "    (\"Great value for the price.\", \"positive\")\n",
    "]"
   ]
  },
  {
   "cell_type": "code",
   "execution_count": 3,
   "id": "88b796ea-dad7-4eb4-834c-130be5d4e90f",
   "metadata": {},
   "outputs": [
    {
     "data": {
      "text/plain": [
       "[('This product is excellent!', 'positive'),\n",
       " ('The quality of this product is poor.', 'negative'),\n",
       " (\"I'm satisfied with my purchase.\", 'positive'),\n",
       " ('I would not recommend this product.', 'negative'),\n",
       " ('Great value for the price.', 'positive')]"
      ]
     },
     "execution_count": 3,
     "metadata": {},
     "output_type": "execute_result"
    }
   ],
   "source": [
    "reviews"
   ]
  },
  {
   "cell_type": "code",
   "execution_count": 4,
   "id": "2bb42abc-c9f1-4824-920d-bb2f89018922",
   "metadata": {},
   "outputs": [
    {
     "name": "stderr",
     "output_type": "stream",
     "text": [
      "[nltk_data] Downloading package stopwords to\n",
      "[nltk_data]     C:\\Users\\alnim\\AppData\\Roaming\\nltk_data...\n",
      "[nltk_data]   Unzipping corpora\\stopwords.zip.\n",
      "[nltk_data] Downloading package punkt to\n",
      "[nltk_data]     C:\\Users\\alnim\\AppData\\Roaming\\nltk_data...\n",
      "[nltk_data]   Unzipping tokenizers\\punkt.zip.\n",
      "[nltk_data] Downloading package wordnet to\n",
      "[nltk_data]     C:\\Users\\alnim\\AppData\\Roaming\\nltk_data...\n"
     ]
    }
   ],
   "source": [
    "# Preprocess the text data\n",
    "nltk.download('stopwords')\n",
    "nltk.download('punkt')\n",
    "nltk.download('wordnet')\n",
    "\n",
    "lemmatizer = WordNetLemmatizer()\n",
    "stop_words = set(stopwords.words('english'))\n",
    "\n",
    "processed_reviews = []\n",
    "for review, sentiment in reviews:\n",
    "    tokens = word_tokenize(review.lower())  # Tokenize and convert to lowercase\n",
    "    filtered_tokens = [lemmatizer.lemmatize(token) for token in tokens if token.isalnum() and token not in stop_words]  # Remove stop words and non-alphanumeric tokens\n",
    "    processed_reviews.append((\" \".join(filtered_tokens), sentiment))"
   ]
  },
  {
   "cell_type": "code",
   "execution_count": 5,
   "id": "3ccbd561-e7a4-4dbd-9cd0-24c63e6fc25d",
   "metadata": {},
   "outputs": [],
   "source": [
    "# Create TF-IDF vectors\n",
    "tfidf_vectorizer = TfidfVectorizer(max_features=1000)\n",
    "X = tfidf_vectorizer.fit_transform([review for review, _ in processed_reviews])\n",
    "y = [sentiment for _, sentiment in processed_reviews]"
   ]
  },
  {
   "cell_type": "code",
   "execution_count": 6,
   "id": "cab3c722-58a1-4c26-9ebb-ef24e12a762d",
   "metadata": {},
   "outputs": [],
   "source": [
    "# Split the data into training and testing sets\n",
    "X_train, X_test, y_train, y_test = train_test_split(X, y, test_size=0.2, random_state=42)"
   ]
  },
  {
   "cell_type": "code",
   "execution_count": 7,
   "id": "44d9a740-b836-49cb-9e26-a3ae132a2d89",
   "metadata": {},
   "outputs": [
    {
     "data": {
      "text/html": [
       "<style>#sk-container-id-1 {color: black;background-color: white;}#sk-container-id-1 pre{padding: 0;}#sk-container-id-1 div.sk-toggleable {background-color: white;}#sk-container-id-1 label.sk-toggleable__label {cursor: pointer;display: block;width: 100%;margin-bottom: 0;padding: 0.3em;box-sizing: border-box;text-align: center;}#sk-container-id-1 label.sk-toggleable__label-arrow:before {content: \"▸\";float: left;margin-right: 0.25em;color: #696969;}#sk-container-id-1 label.sk-toggleable__label-arrow:hover:before {color: black;}#sk-container-id-1 div.sk-estimator:hover label.sk-toggleable__label-arrow:before {color: black;}#sk-container-id-1 div.sk-toggleable__content {max-height: 0;max-width: 0;overflow: hidden;text-align: left;background-color: #f0f8ff;}#sk-container-id-1 div.sk-toggleable__content pre {margin: 0.2em;color: black;border-radius: 0.25em;background-color: #f0f8ff;}#sk-container-id-1 input.sk-toggleable__control:checked~div.sk-toggleable__content {max-height: 200px;max-width: 100%;overflow: auto;}#sk-container-id-1 input.sk-toggleable__control:checked~label.sk-toggleable__label-arrow:before {content: \"▾\";}#sk-container-id-1 div.sk-estimator input.sk-toggleable__control:checked~label.sk-toggleable__label {background-color: #d4ebff;}#sk-container-id-1 div.sk-label input.sk-toggleable__control:checked~label.sk-toggleable__label {background-color: #d4ebff;}#sk-container-id-1 input.sk-hidden--visually {border: 0;clip: rect(1px 1px 1px 1px);clip: rect(1px, 1px, 1px, 1px);height: 1px;margin: -1px;overflow: hidden;padding: 0;position: absolute;width: 1px;}#sk-container-id-1 div.sk-estimator {font-family: monospace;background-color: #f0f8ff;border: 1px dotted black;border-radius: 0.25em;box-sizing: border-box;margin-bottom: 0.5em;}#sk-container-id-1 div.sk-estimator:hover {background-color: #d4ebff;}#sk-container-id-1 div.sk-parallel-item::after {content: \"\";width: 100%;border-bottom: 1px solid gray;flex-grow: 1;}#sk-container-id-1 div.sk-label:hover label.sk-toggleable__label {background-color: #d4ebff;}#sk-container-id-1 div.sk-serial::before {content: \"\";position: absolute;border-left: 1px solid gray;box-sizing: border-box;top: 0;bottom: 0;left: 50%;z-index: 0;}#sk-container-id-1 div.sk-serial {display: flex;flex-direction: column;align-items: center;background-color: white;padding-right: 0.2em;padding-left: 0.2em;position: relative;}#sk-container-id-1 div.sk-item {position: relative;z-index: 1;}#sk-container-id-1 div.sk-parallel {display: flex;align-items: stretch;justify-content: center;background-color: white;position: relative;}#sk-container-id-1 div.sk-item::before, #sk-container-id-1 div.sk-parallel-item::before {content: \"\";position: absolute;border-left: 1px solid gray;box-sizing: border-box;top: 0;bottom: 0;left: 50%;z-index: -1;}#sk-container-id-1 div.sk-parallel-item {display: flex;flex-direction: column;z-index: 1;position: relative;background-color: white;}#sk-container-id-1 div.sk-parallel-item:first-child::after {align-self: flex-end;width: 50%;}#sk-container-id-1 div.sk-parallel-item:last-child::after {align-self: flex-start;width: 50%;}#sk-container-id-1 div.sk-parallel-item:only-child::after {width: 0;}#sk-container-id-1 div.sk-dashed-wrapped {border: 1px dashed gray;margin: 0 0.4em 0.5em 0.4em;box-sizing: border-box;padding-bottom: 0.4em;background-color: white;}#sk-container-id-1 div.sk-label label {font-family: monospace;font-weight: bold;display: inline-block;line-height: 1.2em;}#sk-container-id-1 div.sk-label-container {text-align: center;}#sk-container-id-1 div.sk-container {/* jupyter's `normalize.less` sets `[hidden] { display: none; }` but bootstrap.min.css set `[hidden] { display: none !important; }` so we also need the `!important` here to be able to override the default hidden behavior on the sphinx rendered scikit-learn.org. See: https://github.com/scikit-learn/scikit-learn/issues/21755 */display: inline-block !important;position: relative;}#sk-container-id-1 div.sk-text-repr-fallback {display: none;}</style><div id=\"sk-container-id-1\" class=\"sk-top-container\"><div class=\"sk-text-repr-fallback\"><pre>SVC(kernel=&#x27;linear&#x27;)</pre><b>In a Jupyter environment, please rerun this cell to show the HTML representation or trust the notebook. <br />On GitHub, the HTML representation is unable to render, please try loading this page with nbviewer.org.</b></div><div class=\"sk-container\" hidden><div class=\"sk-item\"><div class=\"sk-estimator sk-toggleable\"><input class=\"sk-toggleable__control sk-hidden--visually\" id=\"sk-estimator-id-1\" type=\"checkbox\" checked><label for=\"sk-estimator-id-1\" class=\"sk-toggleable__label sk-toggleable__label-arrow\">SVC</label><div class=\"sk-toggleable__content\"><pre>SVC(kernel=&#x27;linear&#x27;)</pre></div></div></div></div></div>"
      ],
      "text/plain": [
       "SVC(kernel='linear')"
      ]
     },
     "execution_count": 7,
     "metadata": {},
     "output_type": "execute_result"
    }
   ],
   "source": [
    "# Train a Support Vector Machine (SVM) classifier\n",
    "svm_classifier = SVC(kernel='linear')\n",
    "svm_classifier.fit(X_train, y_train)"
   ]
  },
  {
   "cell_type": "code",
   "execution_count": 8,
   "id": "a3216524-91b4-47e8-a194-e4842bb384fe",
   "metadata": {},
   "outputs": [],
   "source": [
    "# Make predictions on the testing set\n",
    "y_pred = svm_classifier.predict(X_test)"
   ]
  },
  {
   "cell_type": "code",
   "execution_count": 9,
   "id": "c6a8e098-cbf9-4bf5-9fe6-1b6bb4d84f3d",
   "metadata": {},
   "outputs": [
    {
     "name": "stdout",
     "output_type": "stream",
     "text": [
      "Accuracy: 0.0\n"
     ]
    }
   ],
   "source": [
    "# Evaluate model accuracy\n",
    "accuracy = accuracy_score(y_test, y_pred)\n",
    "print(\"Accuracy:\", accuracy)"
   ]
  },
  {
   "cell_type": "markdown",
   "id": "e965d095-8a9e-4e3b-b098-dd63f01fcc7f",
   "metadata": {},
   "source": [
    "Explanation:\n",
    "\n",
    "1. Sample Customer Reviews Dataset: We start with a small dataset of customer reviews, each labeled with a sentiment (positive or negative).\n",
    "2. Text Preprocessing: We preprocess the text data by tokenizing the reviews into words, converting them to lowercase, removing stopwords, and lemmatizing the words to their base form using NLTK.\n",
    "3. Feature Extraction with TF-IDF: We use the TF-IDF (Term Frequency-Inverse Document Frequency) technique to convert the text data into numerical features. This helps represent the textual information in a format suitable for machine learning algorithms.\n",
    "4. Splitting the Dataset: We split the dataset into training and testing sets to train the model on a subset of the data and evaluate its performance on unseen data.\n",
    "5. Training a Classifier: We train a Support Vector Machine (SVM) classifier with a linear kernel on the training data. SVM is a popular algorithm for text classification tasks.\n",
    "6. Making Predictions: We use the trained classifier to make predictions on the testing set.\n",
    "7. Evaluating Model Accuracy: Finally, we evaluate the accuracy of the model's predictions using the accuracy_score() function from Scikit-Learn's metrics module. The accuracy score represents the proportion of correctly classified samples in the test set.\n",
    "\n",
    "This example demonstrates how to use artificial intelligence techniques in Python, specifically NLTK for text preprocessing and Scikit-Learn for machine learning, to perform sentiment analysis of customer reviews."
   ]
  }
 ],
 "metadata": {
  "kernelspec": {
   "display_name": "Python 3 (ipykernel)",
   "language": "python",
   "name": "python3"
  },
  "language_info": {
   "codemirror_mode": {
    "name": "ipython",
    "version": 3
   },
   "file_extension": ".py",
   "mimetype": "text/x-python",
   "name": "python",
   "nbconvert_exporter": "python",
   "pygments_lexer": "ipython3",
   "version": "3.11.7"
  }
 },
 "nbformat": 4,
 "nbformat_minor": 5
}
